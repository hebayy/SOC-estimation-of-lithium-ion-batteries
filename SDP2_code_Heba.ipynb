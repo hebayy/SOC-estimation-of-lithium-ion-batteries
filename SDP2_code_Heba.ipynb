{
  "cells": [
    {
      "cell_type": "markdown",
      "metadata": {
        "id": "view-in-github",
        "colab_type": "text"
      },
      "source": [
        "<a href=\"https://colab.research.google.com/github/hebayy/SOC-estimation-of-lithium-ion-batteries/blob/master/SDP2_code_Heba.ipynb\" target=\"_parent\"><img src=\"https://colab.research.google.com/assets/colab-badge.svg\" alt=\"Open In Colab\"/></a>"
      ]
    },
    {
      "cell_type": "code",
      "execution_count": null,
      "metadata": {
        "id": "GnRv9AbKVLWu"
      },
      "outputs": [],
      "source": [
        "# Importing libraries \n",
        "import pandas as pd\n",
        "import numpy as np\n",
        "import seaborn as sns\n",
        "import matplotlib.pyplot as plt\n",
        "import pandas as pd"
      ]
    },
    {
      "cell_type": "code",
      "execution_count": null,
      "metadata": {
        "id": "cqk2eNcOVLWz",
        "outputId": "19fca493-594c-45a0-ec36-1fede75ecf64",
        "colab": {
          "base_uri": "https://localhost:8080/",
          "height": 414
        }
      },
      "outputs": [
        {
          "output_type": "error",
          "ename": "FileNotFoundError",
          "evalue": "ignored",
          "traceback": [
            "\u001b[0;31m---------------------------------------------------------------------------\u001b[0m",
            "\u001b[0;31mFileNotFoundError\u001b[0m                         Traceback (most recent call last)",
            "\u001b[0;32m<ipython-input-13-a3bbb15615eb>\u001b[0m in \u001b[0;36m<module>\u001b[0;34m()\u001b[0m\n\u001b[1;32m      5\u001b[0m \u001b[0;31m# data_np is a numpy array\u001b[0m\u001b[0;34m\u001b[0m\u001b[0;34m\u001b[0m\u001b[0;34m\u001b[0m\u001b[0m\n\u001b[1;32m      6\u001b[0m \u001b[0;34m\u001b[0m\u001b[0m\n\u001b[0;32m----> 7\u001b[0;31m \u001b[0mdata\u001b[0m \u001b[0;34m=\u001b[0m \u001b[0mpd\u001b[0m\u001b[0;34m.\u001b[0m\u001b[0mread_csv\u001b[0m\u001b[0;34m(\u001b[0m\u001b[0;34m\"40deg_HWFET.csv\"\u001b[0m\u001b[0;34m)\u001b[0m\u001b[0;34m\u001b[0m\u001b[0;34m\u001b[0m\u001b[0m\n\u001b[0m\u001b[1;32m      8\u001b[0m \u001b[0mdata\u001b[0m \u001b[0;34m=\u001b[0m \u001b[0mdata\u001b[0m\u001b[0;34m.\u001b[0m\u001b[0msample\u001b[0m\u001b[0;34m(\u001b[0m\u001b[0mfrac\u001b[0m\u001b[0;34m=\u001b[0m\u001b[0;36m1\u001b[0m\u001b[0;34m,\u001b[0m\u001b[0mrandom_state\u001b[0m\u001b[0;34m=\u001b[0m\u001b[0;36m4\u001b[0m\u001b[0;34m)\u001b[0m \u001b[0;31m# shuffle rows, to make sure of balance when splitting dataset\u001b[0m\u001b[0;34m\u001b[0m\u001b[0;34m\u001b[0m\u001b[0m\n\u001b[1;32m      9\u001b[0m \u001b[0;31m# Changing string into float with 2 decimal points\u001b[0m\u001b[0;34m\u001b[0m\u001b[0;34m\u001b[0m\u001b[0;34m\u001b[0m\u001b[0m\n",
            "\u001b[0;32m/usr/local/lib/python3.7/dist-packages/pandas/util/_decorators.py\u001b[0m in \u001b[0;36mwrapper\u001b[0;34m(*args, **kwargs)\u001b[0m\n\u001b[1;32m    309\u001b[0m                     \u001b[0mstacklevel\u001b[0m\u001b[0;34m=\u001b[0m\u001b[0mstacklevel\u001b[0m\u001b[0;34m,\u001b[0m\u001b[0;34m\u001b[0m\u001b[0;34m\u001b[0m\u001b[0m\n\u001b[1;32m    310\u001b[0m                 )\n\u001b[0;32m--> 311\u001b[0;31m             \u001b[0;32mreturn\u001b[0m \u001b[0mfunc\u001b[0m\u001b[0;34m(\u001b[0m\u001b[0;34m*\u001b[0m\u001b[0margs\u001b[0m\u001b[0;34m,\u001b[0m \u001b[0;34m**\u001b[0m\u001b[0mkwargs\u001b[0m\u001b[0;34m)\u001b[0m\u001b[0;34m\u001b[0m\u001b[0;34m\u001b[0m\u001b[0m\n\u001b[0m\u001b[1;32m    312\u001b[0m \u001b[0;34m\u001b[0m\u001b[0m\n\u001b[1;32m    313\u001b[0m         \u001b[0;32mreturn\u001b[0m \u001b[0mwrapper\u001b[0m\u001b[0;34m\u001b[0m\u001b[0;34m\u001b[0m\u001b[0m\n",
            "\u001b[0;32m/usr/local/lib/python3.7/dist-packages/pandas/io/parsers/readers.py\u001b[0m in \u001b[0;36mread_csv\u001b[0;34m(filepath_or_buffer, sep, delimiter, header, names, index_col, usecols, squeeze, prefix, mangle_dupe_cols, dtype, engine, converters, true_values, false_values, skipinitialspace, skiprows, skipfooter, nrows, na_values, keep_default_na, na_filter, verbose, skip_blank_lines, parse_dates, infer_datetime_format, keep_date_col, date_parser, dayfirst, cache_dates, iterator, chunksize, compression, thousands, decimal, lineterminator, quotechar, quoting, doublequote, escapechar, comment, encoding, encoding_errors, dialect, error_bad_lines, warn_bad_lines, on_bad_lines, delim_whitespace, low_memory, memory_map, float_precision, storage_options)\u001b[0m\n\u001b[1;32m    584\u001b[0m     \u001b[0mkwds\u001b[0m\u001b[0;34m.\u001b[0m\u001b[0mupdate\u001b[0m\u001b[0;34m(\u001b[0m\u001b[0mkwds_defaults\u001b[0m\u001b[0;34m)\u001b[0m\u001b[0;34m\u001b[0m\u001b[0;34m\u001b[0m\u001b[0m\n\u001b[1;32m    585\u001b[0m \u001b[0;34m\u001b[0m\u001b[0m\n\u001b[0;32m--> 586\u001b[0;31m     \u001b[0;32mreturn\u001b[0m \u001b[0m_read\u001b[0m\u001b[0;34m(\u001b[0m\u001b[0mfilepath_or_buffer\u001b[0m\u001b[0;34m,\u001b[0m \u001b[0mkwds\u001b[0m\u001b[0;34m)\u001b[0m\u001b[0;34m\u001b[0m\u001b[0;34m\u001b[0m\u001b[0m\n\u001b[0m\u001b[1;32m    587\u001b[0m \u001b[0;34m\u001b[0m\u001b[0m\n\u001b[1;32m    588\u001b[0m \u001b[0;34m\u001b[0m\u001b[0m\n",
            "\u001b[0;32m/usr/local/lib/python3.7/dist-packages/pandas/io/parsers/readers.py\u001b[0m in \u001b[0;36m_read\u001b[0;34m(filepath_or_buffer, kwds)\u001b[0m\n\u001b[1;32m    480\u001b[0m \u001b[0;34m\u001b[0m\u001b[0m\n\u001b[1;32m    481\u001b[0m     \u001b[0;31m# Create the parser.\u001b[0m\u001b[0;34m\u001b[0m\u001b[0;34m\u001b[0m\u001b[0;34m\u001b[0m\u001b[0m\n\u001b[0;32m--> 482\u001b[0;31m     \u001b[0mparser\u001b[0m \u001b[0;34m=\u001b[0m \u001b[0mTextFileReader\u001b[0m\u001b[0;34m(\u001b[0m\u001b[0mfilepath_or_buffer\u001b[0m\u001b[0;34m,\u001b[0m \u001b[0;34m**\u001b[0m\u001b[0mkwds\u001b[0m\u001b[0;34m)\u001b[0m\u001b[0;34m\u001b[0m\u001b[0;34m\u001b[0m\u001b[0m\n\u001b[0m\u001b[1;32m    483\u001b[0m \u001b[0;34m\u001b[0m\u001b[0m\n\u001b[1;32m    484\u001b[0m     \u001b[0;32mif\u001b[0m \u001b[0mchunksize\u001b[0m \u001b[0;32mor\u001b[0m \u001b[0miterator\u001b[0m\u001b[0;34m:\u001b[0m\u001b[0;34m\u001b[0m\u001b[0;34m\u001b[0m\u001b[0m\n",
            "\u001b[0;32m/usr/local/lib/python3.7/dist-packages/pandas/io/parsers/readers.py\u001b[0m in \u001b[0;36m__init__\u001b[0;34m(self, f, engine, **kwds)\u001b[0m\n\u001b[1;32m    809\u001b[0m             \u001b[0mself\u001b[0m\u001b[0;34m.\u001b[0m\u001b[0moptions\u001b[0m\u001b[0;34m[\u001b[0m\u001b[0;34m\"has_index_names\"\u001b[0m\u001b[0;34m]\u001b[0m \u001b[0;34m=\u001b[0m \u001b[0mkwds\u001b[0m\u001b[0;34m[\u001b[0m\u001b[0;34m\"has_index_names\"\u001b[0m\u001b[0;34m]\u001b[0m\u001b[0;34m\u001b[0m\u001b[0;34m\u001b[0m\u001b[0m\n\u001b[1;32m    810\u001b[0m \u001b[0;34m\u001b[0m\u001b[0m\n\u001b[0;32m--> 811\u001b[0;31m         \u001b[0mself\u001b[0m\u001b[0;34m.\u001b[0m\u001b[0m_engine\u001b[0m \u001b[0;34m=\u001b[0m \u001b[0mself\u001b[0m\u001b[0;34m.\u001b[0m\u001b[0m_make_engine\u001b[0m\u001b[0;34m(\u001b[0m\u001b[0mself\u001b[0m\u001b[0;34m.\u001b[0m\u001b[0mengine\u001b[0m\u001b[0;34m)\u001b[0m\u001b[0;34m\u001b[0m\u001b[0;34m\u001b[0m\u001b[0m\n\u001b[0m\u001b[1;32m    812\u001b[0m \u001b[0;34m\u001b[0m\u001b[0m\n\u001b[1;32m    813\u001b[0m     \u001b[0;32mdef\u001b[0m \u001b[0mclose\u001b[0m\u001b[0;34m(\u001b[0m\u001b[0mself\u001b[0m\u001b[0;34m)\u001b[0m\u001b[0;34m:\u001b[0m\u001b[0;34m\u001b[0m\u001b[0;34m\u001b[0m\u001b[0m\n",
            "\u001b[0;32m/usr/local/lib/python3.7/dist-packages/pandas/io/parsers/readers.py\u001b[0m in \u001b[0;36m_make_engine\u001b[0;34m(self, engine)\u001b[0m\n\u001b[1;32m   1038\u001b[0m             )\n\u001b[1;32m   1039\u001b[0m         \u001b[0;31m# error: Too many arguments for \"ParserBase\"\u001b[0m\u001b[0;34m\u001b[0m\u001b[0;34m\u001b[0m\u001b[0;34m\u001b[0m\u001b[0m\n\u001b[0;32m-> 1040\u001b[0;31m         \u001b[0;32mreturn\u001b[0m \u001b[0mmapping\u001b[0m\u001b[0;34m[\u001b[0m\u001b[0mengine\u001b[0m\u001b[0;34m]\u001b[0m\u001b[0;34m(\u001b[0m\u001b[0mself\u001b[0m\u001b[0;34m.\u001b[0m\u001b[0mf\u001b[0m\u001b[0;34m,\u001b[0m \u001b[0;34m**\u001b[0m\u001b[0mself\u001b[0m\u001b[0;34m.\u001b[0m\u001b[0moptions\u001b[0m\u001b[0;34m)\u001b[0m  \u001b[0;31m# type: ignore[call-arg]\u001b[0m\u001b[0;34m\u001b[0m\u001b[0;34m\u001b[0m\u001b[0m\n\u001b[0m\u001b[1;32m   1041\u001b[0m \u001b[0;34m\u001b[0m\u001b[0m\n\u001b[1;32m   1042\u001b[0m     \u001b[0;32mdef\u001b[0m \u001b[0m_failover_to_python\u001b[0m\u001b[0;34m(\u001b[0m\u001b[0mself\u001b[0m\u001b[0;34m)\u001b[0m\u001b[0;34m:\u001b[0m\u001b[0;34m\u001b[0m\u001b[0;34m\u001b[0m\u001b[0m\n",
            "\u001b[0;32m/usr/local/lib/python3.7/dist-packages/pandas/io/parsers/c_parser_wrapper.py\u001b[0m in \u001b[0;36m__init__\u001b[0;34m(self, src, **kwds)\u001b[0m\n\u001b[1;32m     49\u001b[0m \u001b[0;34m\u001b[0m\u001b[0m\n\u001b[1;32m     50\u001b[0m         \u001b[0;31m# open handles\u001b[0m\u001b[0;34m\u001b[0m\u001b[0;34m\u001b[0m\u001b[0;34m\u001b[0m\u001b[0m\n\u001b[0;32m---> 51\u001b[0;31m         \u001b[0mself\u001b[0m\u001b[0;34m.\u001b[0m\u001b[0m_open_handles\u001b[0m\u001b[0;34m(\u001b[0m\u001b[0msrc\u001b[0m\u001b[0;34m,\u001b[0m \u001b[0mkwds\u001b[0m\u001b[0;34m)\u001b[0m\u001b[0;34m\u001b[0m\u001b[0;34m\u001b[0m\u001b[0m\n\u001b[0m\u001b[1;32m     52\u001b[0m         \u001b[0;32massert\u001b[0m \u001b[0mself\u001b[0m\u001b[0;34m.\u001b[0m\u001b[0mhandles\u001b[0m \u001b[0;32mis\u001b[0m \u001b[0;32mnot\u001b[0m \u001b[0;32mNone\u001b[0m\u001b[0;34m\u001b[0m\u001b[0;34m\u001b[0m\u001b[0m\n\u001b[1;32m     53\u001b[0m \u001b[0;34m\u001b[0m\u001b[0m\n",
            "\u001b[0;32m/usr/local/lib/python3.7/dist-packages/pandas/io/parsers/base_parser.py\u001b[0m in \u001b[0;36m_open_handles\u001b[0;34m(self, src, kwds)\u001b[0m\n\u001b[1;32m    227\u001b[0m             \u001b[0mmemory_map\u001b[0m\u001b[0;34m=\u001b[0m\u001b[0mkwds\u001b[0m\u001b[0;34m.\u001b[0m\u001b[0mget\u001b[0m\u001b[0;34m(\u001b[0m\u001b[0;34m\"memory_map\"\u001b[0m\u001b[0;34m,\u001b[0m \u001b[0;32mFalse\u001b[0m\u001b[0;34m)\u001b[0m\u001b[0;34m,\u001b[0m\u001b[0;34m\u001b[0m\u001b[0;34m\u001b[0m\u001b[0m\n\u001b[1;32m    228\u001b[0m             \u001b[0mstorage_options\u001b[0m\u001b[0;34m=\u001b[0m\u001b[0mkwds\u001b[0m\u001b[0;34m.\u001b[0m\u001b[0mget\u001b[0m\u001b[0;34m(\u001b[0m\u001b[0;34m\"storage_options\"\u001b[0m\u001b[0;34m,\u001b[0m \u001b[0;32mNone\u001b[0m\u001b[0;34m)\u001b[0m\u001b[0;34m,\u001b[0m\u001b[0;34m\u001b[0m\u001b[0;34m\u001b[0m\u001b[0m\n\u001b[0;32m--> 229\u001b[0;31m             \u001b[0merrors\u001b[0m\u001b[0;34m=\u001b[0m\u001b[0mkwds\u001b[0m\u001b[0;34m.\u001b[0m\u001b[0mget\u001b[0m\u001b[0;34m(\u001b[0m\u001b[0;34m\"encoding_errors\"\u001b[0m\u001b[0;34m,\u001b[0m \u001b[0;34m\"strict\"\u001b[0m\u001b[0;34m)\u001b[0m\u001b[0;34m,\u001b[0m\u001b[0;34m\u001b[0m\u001b[0;34m\u001b[0m\u001b[0m\n\u001b[0m\u001b[1;32m    230\u001b[0m         )\n\u001b[1;32m    231\u001b[0m \u001b[0;34m\u001b[0m\u001b[0m\n",
            "\u001b[0;32m/usr/local/lib/python3.7/dist-packages/pandas/io/common.py\u001b[0m in \u001b[0;36mget_handle\u001b[0;34m(path_or_buf, mode, encoding, compression, memory_map, is_text, errors, storage_options)\u001b[0m\n\u001b[1;32m    705\u001b[0m                 \u001b[0mencoding\u001b[0m\u001b[0;34m=\u001b[0m\u001b[0mioargs\u001b[0m\u001b[0;34m.\u001b[0m\u001b[0mencoding\u001b[0m\u001b[0;34m,\u001b[0m\u001b[0;34m\u001b[0m\u001b[0;34m\u001b[0m\u001b[0m\n\u001b[1;32m    706\u001b[0m                 \u001b[0merrors\u001b[0m\u001b[0;34m=\u001b[0m\u001b[0merrors\u001b[0m\u001b[0;34m,\u001b[0m\u001b[0;34m\u001b[0m\u001b[0;34m\u001b[0m\u001b[0m\n\u001b[0;32m--> 707\u001b[0;31m                 \u001b[0mnewline\u001b[0m\u001b[0;34m=\u001b[0m\u001b[0;34m\"\"\u001b[0m\u001b[0;34m,\u001b[0m\u001b[0;34m\u001b[0m\u001b[0;34m\u001b[0m\u001b[0m\n\u001b[0m\u001b[1;32m    708\u001b[0m             )\n\u001b[1;32m    709\u001b[0m         \u001b[0;32melse\u001b[0m\u001b[0;34m:\u001b[0m\u001b[0;34m\u001b[0m\u001b[0;34m\u001b[0m\u001b[0m\n",
            "\u001b[0;31mFileNotFoundError\u001b[0m: [Errno 2] No such file or directory: '40deg_HWFET.csv'"
          ]
        }
      ],
      "source": [
        "# Reading data file (csv)\n",
        "\n",
        "# data is a dataframe (contains strings)\n",
        "# newdata is a list (contains floats)\n",
        "# data_np is a numpy array\n",
        "\n",
        "data = pd.read_csv(\"40deg_HWFET.csv\")\n",
        "data = data.sample(frac=1,random_state=4) # shuffle rows, to make sure of balance when splitting dataset \n",
        "# Changing string into float with 2 decimal points\n",
        "newdata = [] \n",
        "data_np = data.to_numpy() # converting dataframe into np array\n",
        "for column in data_np:\n",
        "    newdata.append( [round(float(xx), 2) for xx in column] )\n",
        "\n",
        "newdata = np.array(newdata)\n",
        "\n",
        "# Scatter plot\n",
        "fig, ax = plt.subplots(figsize = (5,5))\n",
        "ax.scatter(newdata[:,4], newdata[:,0])\n",
        "ax.set_ylabel('Voltage')\n",
        "ax.set_xlabel('SOC')\n",
        "plt.show() \n",
        "\n",
        "corrmat = data.corr()\n",
        "top_corr_features = corrmat.index\n",
        "plt.figure(figsize=(5,5))\n",
        "g=sns.heatmap(data[top_corr_features].corr(),annot=True,cmap=\"RdYlGn\")\n"
      ]
    },
    {
      "cell_type": "code",
      "execution_count": null,
      "metadata": {
        "id": "t-zEkPrrVLW1"
      },
      "outputs": [],
      "source": [
        "import pandas as pd\n",
        "import matplotlib.pyplot as plt\n",
        "data['Capacity'].plot(kind='box')\n",
        "\n",
        "# Removing outliers\n",
        "q75, q25 = np.percentile(newdata[:,4], [75 ,25])\n",
        "iqr = q75 - q25\n",
        "max = q75+(1.5*iqr)\n",
        "min = q25-(1.5*iqr)\n",
        "for x in newdata[:,4]:\n",
        "    if (x < min or x > max): \n",
        "        newdata[x,:] = np.nan\n"
      ]
    },
    {
      "cell_type": "code",
      "execution_count": null,
      "metadata": {
        "id": "bbAWBUfNVLW2"
      },
      "outputs": [],
      "source": [
        "# Normalizing the data (feature scaling)\n",
        "from sklearn import preprocessing\n",
        "scaler = preprocessing.MinMaxScaler()\n",
        "newdata = scaler.fit_transform(newdata)"
      ]
    },
    {
      "cell_type": "code",
      "source": [
        "import matplotlib.pyplot as plt\n",
        "\n",
        "plt.hist(newdata[:,4])\n",
        "plt.ylabel('Frequency')\n",
        "plt.xlabel('Capacity')"
      ],
      "metadata": {
        "id": "f7MTAXa4XwWn"
      },
      "execution_count": null,
      "outputs": []
    },
    {
      "cell_type": "code",
      "execution_count": null,
      "metadata": {
        "id": "LTyOkhgQVLW3"
      },
      "outputs": [],
      "source": [
        "# Splitting input X, output y\n",
        "from sklearn.model_selection import train_test_split\n",
        "\n",
        "X,y = np.hsplit(newdata, [4])\n",
        "X_train, X_test, y_train, y_test = train_test_split(X, y, test_size=0.3, random_state=101)\n"
      ]
    },
    {
      "cell_type": "code",
      "execution_count": null,
      "metadata": {
        "id": "tPSzXICXVLW3"
      },
      "outputs": [],
      "source": [
        "# from sklearn.datasets import make_regression\n",
        "# from sklearn.model_selection import train_test_split\n",
        "# from sklearn.feature_selection import SelectKBest\n",
        "# from sklearn.feature_selection import f_regression\n",
        "# from matplotlib import pyplot\n",
        " \n",
        "# # feature selection\n",
        "# def select_features(X_train, y_train, X_test):\n",
        "#   # configure to select all features\n",
        "#   fs = SelectKBest(score_func=f_regression, k='all')\n",
        "#   # learn relationship from training data\n",
        "#   fs.fit(X_train, y_train)\n",
        "#   # transform train input data\n",
        "#   X_train_fs = fs.transform(X_train)\n",
        "#   # transform test input data\n",
        "#   X_test_fs = fs.transform(X_test)\n",
        "#   return X_train_fs, X_test_fs, fs\n",
        " \n",
        "# # feature selection\n",
        "# X_train_fs, X_test_fs, fs = select_features(X_train, y_train, X_test)\n",
        "# # what are scores for the features\n",
        "# for i in range(len(fs.scores_)):\n",
        "#   print('Feature %d: %f' % (i, fs.scores_[i]))\n",
        "# # plot the scores\n",
        "# pyplot.bar([i for i in range(len(fs.scores_))], fs.scores_)\n",
        "# pyplot.show()"
      ]
    },
    {
      "cell_type": "code",
      "execution_count": null,
      "metadata": {
        "id": "GRl2jL80VLW4"
      },
      "outputs": [],
      "source": [
        "# # Sampling\n",
        "# # SMOTER and SMOGN\n",
        "# # Regression over imbalanced data is not well explored, there are scarce mature or suitable strategies to address it in the context of regression\n",
        "\n",
        "# ## install pypi release\n",
        "# pip install smogn\n",
        "\n",
        "# ## install developer version\n",
        "# pip install git+https://github.com/nickkunz/smogn.git\n",
        "\n",
        "# ## load libraries\n",
        "# import smogn\n",
        "# import pandas\n",
        "\n",
        "# ## load data\n",
        "# housing = pandas.read_csv(\n",
        "    \n",
        "#     ## http://jse.amstat.org/v19n3/decock.pdf\n",
        "#     \"https://raw.githubusercontent.com/nickkunz/smogn/master/data/housing.csv\"\n",
        "# )\n",
        "\n",
        "# ## conduct smogn\n",
        "# housing_smogn = smogn.smoter(\n",
        "    \n",
        "#     data = housing, \n",
        "#     y = \"SalePrice\"\n",
        "# )\n",
        "\n",
        "###https://github.com/nickkunz/smogn"
      ]
    },
    {
      "cell_type": "code",
      "execution_count": null,
      "metadata": {
        "id": "pA94s4gxVLW6"
      },
      "outputs": [],
      "source": [
        "# # calculate the spearman's correlation between two variables\n",
        "# from numpy.random import rand\n",
        "# from numpy.random import seed\n",
        "# from scipy.stats import spearmanr\n",
        "# # seed random number generator\n",
        "# seed(1)\n",
        "# # prepare data\n",
        "# data1 = rand(1000) * 20\n",
        "# data2 = data1 + (rand(1000) * 10)\n",
        "# # calculate spearman's correlation\n",
        "# coef, p = spearmanr(data1, data2)\n",
        "# print('Spearmans correlation coefficient: %.3f' % coef)\n",
        "# # interpret the significance\n",
        "# alpha = 0.05\n",
        "# if p > alpha:\n",
        "# \tprint('Samples are uncorrelated (fail to reject H0) p=%.3f' % p)\n",
        "# else:\n",
        "# \tprint('Samples are correlated (reject H0) p=%.3f' % p)"
      ]
    },
    {
      "cell_type": "code",
      "execution_count": null,
      "metadata": {
        "id": "vpg8eyQEVLW7",
        "outputId": "ef73206f-4ff9-4068-9f2a-4c66ba218b02"
      },
      "outputs": [
        {
          "name": "stderr",
          "output_type": "stream",
          "text": [
            "C:\\Users\\lenovo\\AppData\\Local\\Temp\\ipykernel_19604\\2939940369.py:13: DataConversionWarning: A column-vector y was passed when a 1d array was expected. Please change the shape of y to (n_samples,), for example using ravel().\n",
            "  RF.fit(X_train, y_train)\n"
          ]
        }
      ],
      "source": [
        " # Multiple Linear Regression\n",
        "from sklearn.linear_model import LinearRegression\n",
        "MLR = LinearRegression()  \n",
        "MLR.fit(X_train, y_train) # inputs and output after splitting and preprocessing\n",
        "y_predMLR = MLR.predict(X_test)\n",
        "# # Evaluate the model (intercept and slope)\n",
        "# print(MLR.intercept_)\n",
        "# print(MLR.coef_)\n",
        "\n",
        "# Random forest\n",
        "from sklearn.ensemble import RandomForestRegressor\n",
        "RF = RandomForestRegressor()\n",
        "RF.fit(X_train, y_train)\n",
        "y_predRF = RF.predict(X_test) \n",
        "\n",
        "# SVR\n",
        "from sklearn.svm import SVR\n",
        "SVR = SVR(kernel = 'rbf')\n",
        "SVR.fit(X_train, y_train.ravel())\n",
        "y_predSVR = SVR.predict(X_test)\n",
        "\n",
        "# Decision tree\n",
        "# from sklearn.tree import DecisionTreeRegressor\n",
        "# DT = DecisionTreeRegressor(max_depth=2)\n",
        "# DT.fit(X, y)\n",
        "# # Predict\n",
        "# X_test = np.arange(0.0, 5.0, 1)[:, np.newaxis]\n",
        "# result = DT.predict(X_test)\n",
        "\n",
        "# MAPE metric \n",
        "def percentage_error(actual, predicted):\n",
        "    res = np.empty(actual.shape)\n",
        "    for j in range(actual.shape[0]):\n",
        "        if actual[j] != 0:\n",
        "            res[j] = (actual[j] - predicted[j]) / actual[j]\n",
        "        else:\n",
        "            res[j] = predicted[j] / np.mean(actual)\n",
        "    return res\n",
        "\n",
        "def mean_absolute_percentage_error(y_true, y_pred): \n",
        "    return np.mean(np.abs(percentage_error(np.asarray(y_true), np.asarray(y_pred)))) * 100\n",
        "\n",
        "\n",
        "from sklearn import metrics\n",
        "# MLR results\n",
        "report = {\n",
        "    \"MLR MAE\": metrics.mean_absolute_error(y_test, y_predMLR), \n",
        "    \"MLR RMSE\": np.sqrt(metrics.mean_squared_error(y_test, y_predMLR)),\n",
        "    \"MLR MAPE\": np.sqrt(mean_absolute_percentage_error(y_test, y_predMLR)),\n",
        "\n",
        "    \"RF MAE\": metrics.mean_absolute_error(y_test, y_predRF), \n",
        "    \"RF RMSE\": np.sqrt(metrics.mean_squared_error(y_test, y_predRF)),\n",
        "    \"RF MAPE\": np.sqrt(mean_absolute_percentage_error(y_test, y_predRF)),\n",
        "\n",
        "    \"SVR MAE\": metrics.mean_absolute_error(y_test, y_predSVR), \n",
        "    \"SVR RMSE\": np.sqrt(metrics.mean_squared_error(y_test, y_predSVR)),\n",
        "    \"SVR MAPE\": np.sqrt(mean_absolute_percentage_error(y_test, y_predSVR)),\n",
        "    }\n",
        "    \n",
        "report = pd.DataFrame([report])\n",
        "report.to_csv(\"HWFET_0deg_report.csv\", index=False)\n",
        "\n",
        "# print('MLR MAE:', metrics.mean_absolute_error(y_test, y_predMLR))   \n",
        "# print('MLR RMSE:', np.sqrt(metrics.mean_squared_error(y_test, y_predMLR)))\n",
        "# print('MLR MAPE:', np.sqrt(mean_absolute_percentage_error(y_test, y_predMLR)))\n",
        "\n",
        "# print('RF MAE:', metrics.mean_absolute_error(y_test, y_predRF))    \n",
        "# print('RF RMSE:', np.sqrt(metrics.mean_squared_error(y_test, y_predRF)))\n",
        "# print('RF MAPE:', np.sqrt(mean_absolute_percentage_error(y_test, y_predRF)))\n",
        "\n",
        "\n",
        "# print('SVR MAE:', metrics.mean_absolute_error(y_test, y_predSVR))  \n",
        "# print('SVR RMSE:', np.sqrt(metrics.mean_squared_error(y_test, y_predSVR)))\n",
        "# print('SVR MAPE:', np.sqrt(mean_absolute_percentage_error(y_test, y_predSVR)))\n",
        "\n"
      ]
    },
    {
      "cell_type": "code",
      "execution_count": null,
      "metadata": {
        "id": "Vn2svgLyVLW9"
      },
      "outputs": [],
      "source": [
        "# report = pd.DataFrame([report])\n",
        "# report.to_csv(\"report.csv\", index=False)"
      ]
    },
    {
      "cell_type": "code",
      "execution_count": null,
      "metadata": {
        "id": "9L2PjtaXVLW-",
        "outputId": "7bbdc583-a481-41dd-c1f6-17913df0780b"
      },
      "outputs": [
        {
          "name": "stdout",
          "output_type": "stream",
          "text": [
            "MAE: 0.45387748032738795\n",
            "MSE: 0.30026466934112983\n",
            "RMSE: 0.547964113187287\n",
            "VarScore: 0.036694514178502335\n"
          ]
        },
        {
          "name": "stderr",
          "output_type": "stream",
          "text": [
            "C:\\Users\\lenovo\\AppData\\Local\\Programs\\Python\\Python310\\lib\\site-packages\\seaborn\\distributions.py:2619: FutureWarning: `distplot` is a deprecated function and will be removed in a future version. Please adapt your code to use either `displot` (a figure-level function with similar flexibility) or `histplot` (an axes-level function for histograms).\n",
            "  warnings.warn(msg, FutureWarning)\n"
          ]
        },
        {
          "data": {
            "text/plain": [
              "<AxesSubplot:ylabel='Density'>"
            ]
          },
          "execution_count": 32,
          "metadata": {},
          "output_type": "execute_result"
        },
        {
          "data": {
            "image/png": "[encoded data removed]",
            "text/plain": [
              "<Figure size 720x360 with 1 Axes>"
            ]
          },
          "metadata": {
            "needs_background": "light"
          },
          "output_type": "display_data"
        },
        {
          "data": {
            "image/png": "[encoded data removed]",
            "text/plain": [
              "<Figure size 720x360 with 1 Axes>"
            ]
          },
          "metadata": {
            "needs_background": "light"
          },
          "output_type": "display_data"
        }
      ],
      "source": [
        "# #Model 2  Creating a Neural Network Model\n",
        "# from tensorflow.keras.models import Sequential\n",
        "# from tensorflow.keras.layers import Dense, Activation\n",
        "# from tensorflow.keras.optimizers import Adam\n",
        "\n",
        "# # having 5 neuron is based on the number of available features\n",
        "# model = Sequential()\n",
        "# model.add(Dense(5,activation='relu'))\n",
        "# model.add(Dense(5,activation='relu'))\n",
        "# model.add(Dense(5,activation='relu'))\n",
        "# model.add(Dense(5,activation='relu'))\n",
        "# model.add(Dense(1))\n",
        "# model.compile(optimizer='Adam',loss='mes')\n",
        "\n",
        "# y_predMLP = model.predict(X_test)\n",
        "# from sklearn import metrics\n",
        "# print('MAE:', metrics.mean_absolute_error(y_test, y_predMLP))  \n",
        "# print('MSE:', metrics.mean_squared_error(y_test, y_predMLP))  \n",
        "# print('RMSE:', np.sqrt(metrics.mean_squared_error(y_test, y_predMLP)))\n",
        "# print('VarScore:',metrics.explained_variance_score(y_test,y_predMLP))\n",
        "# # Visualizing Our predictions\n",
        "# fig = plt.figure(figsize=(10,5))\n",
        "# plt.scatter(y_test,y_predMLP)\n",
        "# # Perfect predictions\n",
        "# plt.plot(y_test,y_test,'r')\n",
        "\n",
        "# # visualizing residuals\n",
        "# fig = plt.figure(figsize=(10,5))\n",
        "# residuals = (y_test-y_predMLP)\n",
        "# sns.distplot(residuals)"
      ]
    },
    {
      "cell_type": "code",
      "execution_count": null,
      "metadata": {
        "id": "v8WOdAlWVLW_",
        "outputId": "42133054-eb4a-4825-bbd6-5bdea784c063"
      },
      "outputs": [
        {
          "name": "stdout",
          "output_type": "stream",
          "text": [
            "RF MAE: 0.015441726924175836\n",
            "RF MSE: 0.0006006533230572178\n",
            "RF RMSE: 0.024508229700596854\n",
            "RF MAPE: 4.504411297598312\n"
          ]
        }
      ],
      "source": [
        "# # Random forest with hyperparameter tuning\n",
        "# from sklearn import datasets\n",
        "# from sklearn.ensemble import RandomForestRegressor\n",
        "# from sklearn.model_selection import RandomizedSearchCV\n",
        "# from scipy.stats import uniform, truncnorm, randint\n",
        "\n",
        "# # Load the model parameters to be test \n",
        "# model_params = {\n",
        "#     # randomly sample numbers from 10 to 500 estimators\n",
        "#     'n_estimators': randint(10,500),\n",
        "#     # normally distributed max_features, with mean .5 &sd 0.1, \n",
        "#     # between 0 and 1\n",
        "#     'max_features': truncnorm(a=0, b=1, loc=0.5, scale=0.1),\n",
        "#     # uniform distribution from 0.01 to 0.2 (0.01 + 0.199)\n",
        "#     'min_samples_split': uniform(0.05, 0.2)\n",
        "# }\n",
        "\n",
        "# # create random forest regressor model\n",
        "# rf_model = RandomForestRegressor()\n",
        "\n",
        "# # set up random search meta-estimator\n",
        "# # this will train 100 models over 5 folds of cross validation (500 models total)\n",
        "# clf = RandomizedSearchCV(rf_model, model_params, n_iter=100, cv=5, random_state=1)\n",
        "\n",
        "# clf.fit(X_train, y_train.ravel())\n",
        "# y_predRFtuned = clf.predict(X_test) \n",
        "# print('RF MAE:', metrics.mean_absolute_error(y_test, y_predRFtuned))  \n",
        "# print('RF MSE:', metrics.mean_squared_error(y_test, y_predRFtuned))  \n",
        "# print('RF RMSE:', np.sqrt(metrics.mean_squared_error(y_test, y_predRFtuned)))\n",
        "# print('RF MAPE:', np.sqrt(mean_absolute_percentage_error(y_test, y_predRFtuned)))"
      ]
    }
  ],
  "metadata": {
    "interpreter": {
      "hash": "c43cc35bf10d47ee272d24c9e8f3a3c68ece12bba4bc202b3d531e99134b684d"
    },
    "kernelspec": {
      "display_name": "Python 3.10.2 64-bit",
      "language": "python",
      "name": "python3"
    },
    "language_info": {
      "codemirror_mode": {
        "name": "ipython",
        "version": 3
      },
      "file_extension": ".py",
      "mimetype": "text/x-python",
      "name": "python",
      "nbconvert_exporter": "python",
      "pygments_lexer": "ipython3",
      "version": "3.10.2"
    },
    "orig_nbformat": 4,
    "colab": {
      "name": "SDP2 code Heba.ipynb",
      "provenance": [],
      "collapsed_sections": [],
      "toc_visible": true,
      "include_colab_link": true
    }
  },
  "nbformat": 4,
  "nbformat_minor": 0
}